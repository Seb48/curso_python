{
  "nbformat": 4,
  "nbformat_minor": 0,
  "metadata": {
    "colab": {
      "name": "Sebastian_Gutierrez.ipynb",
      "provenance": [],
      "authorship_tag": "ABX9TyOWz9RD1xniVo03JKBEWEwH",
      "include_colab_link": true
    },
    "kernelspec": {
      "name": "python3",
      "display_name": "Python 3"
    },
    "language_info": {
      "name": "python"
    }
  },
  "cells": [
    {
      "cell_type": "markdown",
      "metadata": {
        "id": "view-in-github",
        "colab_type": "text"
      },
      "source": [
        "<a href=\"https://colab.research.google.com/github/Seb48/curso_python/blob/main/Sebastian_Gutierrez.ipynb\" target=\"_parent\"><img src=\"https://colab.research.google.com/assets/colab-badge.svg\" alt=\"Open In Colab\"/></a>"
      ]
    },
    {
      "cell_type": "code",
      "metadata": {
        "colab": {
          "base_uri": "https://localhost:8080/"
        },
        "id": "eUgw1k2wbk8G",
        "outputId": "d83e1659-28b2-40ee-fcf5-c658d2c8be6d"
      },
      "source": [
        "x = 8\n",
        "nombre = \"JUAN\"\n",
        "x = nombre\n",
        "y = x\n",
        "\n",
        "print(\"valor de y es:\", y)"
      ],
      "execution_count": null,
      "outputs": [
        {
          "output_type": "stream",
          "text": [
            "valor de y es: JUAN\n"
          ],
          "name": "stdout"
        }
      ]
    },
    {
      "cell_type": "code",
      "metadata": {
        "colab": {
          "base_uri": "https://localhost:8080/"
        },
        "id": "-rbwQRz8j3GA",
        "outputId": "e4aab678-1d4e-41b3-cb7b-5c5d9c835944"
      },
      "source": [
        "variable_verdad: True\n",
        "variable_falso: False\n",
        "\n",
        "type(x)"
      ],
      "execution_count": null,
      "outputs": [
        {
          "output_type": "execute_result",
          "data": {
            "text/plain": [
              "str"
            ]
          },
          "metadata": {
            "tags": []
          },
          "execution_count": 7
        }
      ]
    },
    {
      "cell_type": "code",
      "metadata": {
        "colab": {
          "base_uri": "https://localhost:8080/"
        },
        "id": "zP5AD14_lr4M",
        "outputId": "10cfb032-3ea0-4637-bbd0-369ef00446da"
      },
      "source": [
        "cadena = \"esto es una cadena de texto\"\n",
        "type(cadena)"
      ],
      "execution_count": null,
      "outputs": [
        {
          "output_type": "execute_result",
          "data": {
            "text/plain": [
              "str"
            ]
          },
          "metadata": {
            "tags": []
          },
          "execution_count": 8
        }
      ]
    },
    {
      "cell_type": "code",
      "metadata": {
        "colab": {
          "base_uri": "https://localhost:8080/"
        },
        "id": "lo0Zg_Gumc5J",
        "outputId": "4b911b6e-49f0-499f-c4f6-62354c6eca61"
      },
      "source": [
        "cadena = \"8\"\n",
        "type(cadena)"
      ],
      "execution_count": null,
      "outputs": [
        {
          "output_type": "execute_result",
          "data": {
            "text/plain": [
              "str"
            ]
          },
          "metadata": {
            "tags": []
          },
          "execution_count": 9
        }
      ]
    }
  ]
}