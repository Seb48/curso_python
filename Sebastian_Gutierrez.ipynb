{
  "nbformat": 4,
  "nbformat_minor": 0,
  "metadata": {
    "colab": {
      "name": "Sebastian_Gutierrez.ipynb",
      "provenance": [],
      "collapsed_sections": [],
      "authorship_tag": "ABX9TyPfj+o5zaffOBdgpAyEI9FL",
      "include_colab_link": true
    },
    "kernelspec": {
      "name": "python3",
      "display_name": "Python 3"
    },
    "language_info": {
      "name": "python"
    }
  },
  "cells": [
    {
      "cell_type": "markdown",
      "metadata": {
        "id": "view-in-github",
        "colab_type": "text"
      },
      "source": [
        "<a href=\"https://colab.research.google.com/github/Seb48/curso_python/blob/main/Sebastian_Gutierrez.ipynb\" target=\"_parent\"><img src=\"https://colab.research.google.com/assets/colab-badge.svg\" alt=\"Open In Colab\"/></a>"
      ]
    },
    {
      "cell_type": "code",
      "metadata": {
        "colab": {
          "base_uri": "https://localhost:8080/"
        },
        "id": "eUgw1k2wbk8G",
        "outputId": "d83e1659-28b2-40ee-fcf5-c658d2c8be6d"
      },
      "source": [
        "x = 8\n",
        "nombre = \"JUAN\"\n",
        "x = nombre\n",
        "y = x\n",
        "\n",
        "print(\"valor de y es:\", y)"
      ],
      "execution_count": null,
      "outputs": [
        {
          "output_type": "stream",
          "text": [
            "valor de y es: JUAN\n"
          ],
          "name": "stdout"
        }
      ]
    },
    {
      "cell_type": "code",
      "metadata": {
        "colab": {
          "base_uri": "https://localhost:8080/"
        },
        "id": "-rbwQRz8j3GA",
        "outputId": "e4aab678-1d4e-41b3-cb7b-5c5d9c835944"
      },
      "source": [
        "variable_verdad: True\n",
        "variable_falso: False\n",
        "\n",
        "type(x)"
      ],
      "execution_count": null,
      "outputs": [
        {
          "output_type": "execute_result",
          "data": {
            "text/plain": [
              "str"
            ]
          },
          "metadata": {
            "tags": []
          },
          "execution_count": 7
        }
      ]
    },
    {
      "cell_type": "code",
      "metadata": {
        "colab": {
          "base_uri": "https://localhost:8080/"
        },
        "id": "zP5AD14_lr4M",
        "outputId": "10cfb032-3ea0-4637-bbd0-369ef00446da"
      },
      "source": [
        "cadena = \"esto es una cadena de texto\"\n",
        "type(cadena)"
      ],
      "execution_count": null,
      "outputs": [
        {
          "output_type": "execute_result",
          "data": {
            "text/plain": [
              "str"
            ]
          },
          "metadata": {
            "tags": []
          },
          "execution_count": 8
        }
      ]
    },
    {
      "cell_type": "code",
      "metadata": {
        "colab": {
          "base_uri": "https://localhost:8080/"
        },
        "id": "lo0Zg_Gumc5J",
        "outputId": "4b911b6e-49f0-499f-c4f6-62354c6eca61"
      },
      "source": [
        "cadena = \"8\"\n",
        "type(cadena)"
      ],
      "execution_count": null,
      "outputs": [
        {
          "output_type": "execute_result",
          "data": {
            "text/plain": [
              "str"
            ]
          },
          "metadata": {
            "tags": []
          },
          "execution_count": 9
        }
      ]
    },
    {
      "cell_type": "code",
      "metadata": {
        "colab": {
          "base_uri": "https://localhost:8080/"
        },
        "id": "KAH1o3ewkt0S",
        "outputId": "be963045-36a8-4ea6-b529-bf3ec3f08774"
      },
      "source": [
        "cadena = \"8\"\n",
        "cadena = cadena + \"1\"\n",
        "print(cadena)"
      ],
      "execution_count": 1,
      "outputs": [
        {
          "output_type": "stream",
          "text": [
            "81\n"
          ],
          "name": "stdout"
        }
      ]
    },
    {
      "cell_type": "markdown",
      "metadata": {
        "id": "D0YRTyg5mQM-"
      },
      "source": [
        "# Sesion 02"
      ]
    },
    {
      "cell_type": "code",
      "metadata": {
        "colab": {
          "base_uri": "https://localhost:8080/"
        },
        "id": "mk_Drta-llUB",
        "outputId": "3a6b28b6-fcd7-4d76-dae3-745e0d9bb78b"
      },
      "source": [
        "Datos_Estudiante = [\"Sebastian\", 19, True, \"Apurimac\"]\n",
        "print(Datos_Estudiante)"
      ],
      "execution_count": 2,
      "outputs": [
        {
          "output_type": "stream",
          "text": [
            "['Sebastian', 19, True, 'Apurimac']\n"
          ],
          "name": "stdout"
        }
      ]
    },
    {
      "cell_type": "code",
      "metadata": {
        "colab": {
          "base_uri": "https://localhost:8080/",
          "height": 36
        },
        "id": "7v_82Z0wm-aw",
        "outputId": "fcc29219-733d-41b4-85ab-cb09db3d6f27"
      },
      "source": [
        "nombre = Datos_Estudiante[0]\n",
        "nombre"
      ],
      "execution_count": 3,
      "outputs": [
        {
          "output_type": "execute_result",
          "data": {
            "application/vnd.google.colaboratory.intrinsic+json": {
              "type": "string"
            },
            "text/plain": [
              "'Sebastian'"
            ]
          },
          "metadata": {
            "tags": []
          },
          "execution_count": 3
        }
      ]
    },
    {
      "cell_type": "code",
      "metadata": {
        "colab": {
          "base_uri": "https://localhost:8080/",
          "height": 36
        },
        "id": "ZmiOtwwqoom_",
        "outputId": "5854e3b1-383b-4a50-9f0c-1809077b920a"
      },
      "source": [
        "departamento = Datos_Estudiante[3]\n",
        "departamento "
      ],
      "execution_count": 4,
      "outputs": [
        {
          "output_type": "execute_result",
          "data": {
            "application/vnd.google.colaboratory.intrinsic+json": {
              "type": "string"
            },
            "text/plain": [
              "'Apurimac'"
            ]
          },
          "metadata": {
            "tags": []
          },
          "execution_count": 4
        }
      ]
    },
    {
      "cell_type": "code",
      "metadata": {
        "colab": {
          "base_uri": "https://localhost:8080/"
        },
        "id": "IVTJSnMdoozP",
        "outputId": "48be0d8f-3917-4fd3-a2f4-ee99143e30cd"
      },
      "source": [
        "Datos_personales = Datos_Estudiante[:2]\n",
        "Datos_personales"
      ],
      "execution_count": 6,
      "outputs": [
        {
          "output_type": "execute_result",
          "data": {
            "text/plain": [
              "['Sebastian', 19]"
            ]
          },
          "metadata": {
            "tags": []
          },
          "execution_count": 6
        }
      ]
    },
    {
      "cell_type": "code",
      "metadata": {
        "colab": {
          "base_uri": "https://localhost:8080/",
          "height": 36
        },
        "id": "4koBFK5jqI7D",
        "outputId": "659e3783-9cf9-4131-cffc-b96c2d7cf19a"
      },
      "source": [
        "Datos_Estudiante[-1]"
      ],
      "execution_count": 7,
      "outputs": [
        {
          "output_type": "execute_result",
          "data": {
            "application/vnd.google.colaboratory.intrinsic+json": {
              "type": "string"
            },
            "text/plain": [
              "'Apurimac'"
            ]
          },
          "metadata": {
            "tags": []
          },
          "execution_count": 7
        }
      ]
    },
    {
      "cell_type": "code",
      "metadata": {
        "colab": {
          "base_uri": "https://localhost:8080/"
        },
        "id": "kTs7YWIPrkKM",
        "outputId": "02d18b31-6a08-4b83-9d47-f02c6e30f5ea"
      },
      "source": [
        "Datos_Estudiante[0] = \"Sebastian Gutierrez Merino\"\n",
        "Datos_Estudiante"
      ],
      "execution_count": 9,
      "outputs": [
        {
          "output_type": "execute_result",
          "data": {
            "text/plain": [
              "['Sebastian Gutierrez Merino', 19, True, 'Apurimac']"
            ]
          },
          "metadata": {
            "tags": []
          },
          "execution_count": 9
        }
      ]
    },
    {
      "cell_type": "markdown",
      "metadata": {
        "id": "7_TgWAYksBBs"
      },
      "source": [
        "Tuplas"
      ]
    },
    {
      "cell_type": "code",
      "metadata": {
        "colab": {
          "base_uri": "https://localhost:8080/"
        },
        "id": "1wcZcUnxsCs2",
        "outputId": "a5cb9e25-f70b-4918-d443-99c3c003c799"
      },
      "source": [
        "Datos_estudiante_tupla = \"Sebastian Gutierrez\", 19, True, \"Apurimac\"\n",
        "type(Datos_estudiante_tupla)\n",
        "\n",
        "Datos_tupla = Datos_estudiante_tupla[1:3]\n",
        "Datos_tupla"
      ],
      "execution_count": 12,
      "outputs": [
        {
          "output_type": "execute_result",
          "data": {
            "text/plain": [
              "(19, True)"
            ]
          },
          "metadata": {
            "tags": []
          },
          "execution_count": 12
        }
      ]
    },
    {
      "cell_type": "markdown",
      "metadata": {
        "id": "4FdvnlxWxwAU"
      },
      "source": [
        "# Diccionario"
      ]
    },
    {
      "cell_type": "code",
      "metadata": {
        "colab": {
          "base_uri": "https://localhost:8080/"
        },
        "id": "FZhboCpOtNzO",
        "outputId": "e54b78d0-f36c-4e13-f7b2-101f4566d120"
      },
      "source": [
        "Datos_diccionario = {\n",
        "    \"Nombre\": \"Sebastian Gutierrez Merino\",\n",
        "    \"Edad\": 19,\n",
        "    \"es_estudiante\": True,\n",
        "    \"Departamento\": \"Apurimac\"\n",
        "}\n",
        "\n",
        "Datos_diccionario"
      ],
      "execution_count": 14,
      "outputs": [
        {
          "output_type": "execute_result",
          "data": {
            "text/plain": [
              "{'Departamento': 'Apurimac',\n",
              " 'Edad': 19,\n",
              " 'Nombre': 'Sebastian Gutierrez Merino',\n",
              " 'es_estudiante': True}"
            ]
          },
          "metadata": {
            "tags": []
          },
          "execution_count": 14
        }
      ]
    },
    {
      "cell_type": "markdown",
      "metadata": {
        "id": "dFWJz7_Rzxap"
      },
      "source": [
        "# Data Frame"
      ]
    },
    {
      "cell_type": "code",
      "metadata": {
        "colab": {
          "base_uri": "https://localhost:8080/"
        },
        "id": "RRHmrTR-zrcr",
        "outputId": "0d19aa9b-5eaa-4987-f0be-e40fe1cd933d"
      },
      "source": [
        "import pandas as pd\n",
        "nombres=[\"Manuel\", \"Karen\", \"Karolayne\", \"Omar\"]\n",
        "edad=[23,29,23,26]\n",
        "pais=[\"Ecuador\", \"Perú\", \"Brasil\", \"Argentina\"]\n",
        "educacion=[\"Bachiller\", \"Licenciado\", \"Bachiller\", \"PhD\"]\n",
        "\n",
        "pais"
      ],
      "execution_count": 15,
      "outputs": [
        {
          "output_type": "execute_result",
          "data": {
            "text/plain": [
              "['Ecuador', 'Perú', 'Brasil', 'Argentina']"
            ]
          },
          "metadata": {
            "tags": []
          },
          "execution_count": 15
        }
      ]
    },
    {
      "cell_type": "code",
      "metadata": {
        "colab": {
          "base_uri": "https://localhost:8080/"
        },
        "id": "3Abp4y7O0nRv",
        "outputId": "cbfb8f79-947a-4dba-c37b-24492f2c9f1e"
      },
      "source": [
        "data={\n",
        "    'nombres':nombres, \n",
        "    'edad':edad,\n",
        "    'pais':pais, \n",
        "    'educacion':educacion\n",
        "\n",
        "    }\n",
        "data    "
      ],
      "execution_count": 21,
      "outputs": [
        {
          "output_type": "execute_result",
          "data": {
            "text/plain": [
              "{'edad': [23, 29, 23, 26],\n",
              " 'educacion': ['Bachiller', 'Licenciado', 'Bachiller', 'PhD'],\n",
              " 'nombres': ['Manuel', 'Karen', 'Karolayne', 'Omar'],\n",
              " 'pais': ['Ecuador', 'Perú', 'Brasil', 'Argentina']}"
            ]
          },
          "metadata": {
            "tags": []
          },
          "execution_count": 21
        }
      ]
    },
    {
      "cell_type": "code",
      "metadata": {
        "colab": {
          "base_uri": "https://localhost:8080/",
          "height": 173
        },
        "id": "-RH4qE7g1-5J",
        "outputId": "f215fb8b-c312-4ae5-dc16-9c9d1cc54958"
      },
      "source": [
        "df_estudiantes = pd.DataFrame(data)\n",
        "print(df_estudiantes)\n",
        "df_estudiantes[df_estudiantes[\"pais\"]==\"Perú\"]"
      ],
      "execution_count": 23,
      "outputs": [
        {
          "output_type": "stream",
          "text": [
            "     nombres  edad       pais   educacion\n",
            "0     Manuel    23    Ecuador   Bachiller\n",
            "1      Karen    29       Perú  Licenciado\n",
            "2  Karolayne    23     Brasil   Bachiller\n",
            "3       Omar    26  Argentina         PhD\n"
          ],
          "name": "stdout"
        },
        {
          "output_type": "execute_result",
          "data": {
            "text/html": [
              "<div>\n",
              "<style scoped>\n",
              "    .dataframe tbody tr th:only-of-type {\n",
              "        vertical-align: middle;\n",
              "    }\n",
              "\n",
              "    .dataframe tbody tr th {\n",
              "        vertical-align: top;\n",
              "    }\n",
              "\n",
              "    .dataframe thead th {\n",
              "        text-align: right;\n",
              "    }\n",
              "</style>\n",
              "<table border=\"1\" class=\"dataframe\">\n",
              "  <thead>\n",
              "    <tr style=\"text-align: right;\">\n",
              "      <th></th>\n",
              "      <th>nombres</th>\n",
              "      <th>edad</th>\n",
              "      <th>pais</th>\n",
              "      <th>educacion</th>\n",
              "    </tr>\n",
              "  </thead>\n",
              "  <tbody>\n",
              "    <tr>\n",
              "      <th>1</th>\n",
              "      <td>Karen</td>\n",
              "      <td>29</td>\n",
              "      <td>Perú</td>\n",
              "      <td>Licenciado</td>\n",
              "    </tr>\n",
              "  </tbody>\n",
              "</table>\n",
              "</div>"
            ],
            "text/plain": [
              "  nombres  edad  pais   educacion\n",
              "1   Karen    29  Perú  Licenciado"
            ]
          },
          "metadata": {
            "tags": []
          },
          "execution_count": 23
        }
      ]
    }
  ]
}